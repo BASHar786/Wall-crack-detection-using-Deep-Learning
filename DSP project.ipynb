{
 "cells": [
  {
   "cell_type": "code",
   "execution_count": 8,
   "metadata": {},
   "outputs": [],
   "source": [
    "import os, shutil"
   ]
  },
  {
   "cell_type": "code",
   "execution_count": 9,
   "metadata": {},
   "outputs": [],
   "source": [
    "original_dataset_dir ='C:/Users/SAYYED BASHAR ALI/Desktop/DSP/total images'"
   ]
  },
  {
   "cell_type": "code",
   "execution_count": 10,
   "metadata": {},
   "outputs": [
    {
     "ename": "FileExistsError",
     "evalue": "[WinError 183] Cannot create a file when that file already exists: 'D:/Minor project/crack_model'",
     "output_type": "error",
     "traceback": [
      "\u001b[1;31m---------------------------------------------------------------------------\u001b[0m",
      "\u001b[1;31mFileExistsError\u001b[0m                           Traceback (most recent call last)",
      "\u001b[1;32m<ipython-input-10-3b8da64f8a22>\u001b[0m in \u001b[0;36m<module>\u001b[1;34m\u001b[0m\n\u001b[0;32m      1\u001b[0m \u001b[0mbase_dir\u001b[0m \u001b[1;33m=\u001b[0m \u001b[1;34m'D:/Minor project/crack_model'\u001b[0m\u001b[1;33m\u001b[0m\u001b[1;33m\u001b[0m\u001b[0m\n\u001b[1;32m----> 2\u001b[1;33m \u001b[0mos\u001b[0m\u001b[1;33m.\u001b[0m\u001b[0mmkdir\u001b[0m\u001b[1;33m(\u001b[0m\u001b[0mbase_dir\u001b[0m\u001b[1;33m)\u001b[0m\u001b[1;33m\u001b[0m\u001b[1;33m\u001b[0m\u001b[0m\n\u001b[0m",
      "\u001b[1;31mFileExistsError\u001b[0m: [WinError 183] Cannot create a file when that file already exists: 'D:/Minor project/crack_model'"
     ]
    }
   ],
   "source": [
    "base_dir = 'D:/Minor project/crack_model'\n",
    "os.mkdir(base_dir)"
   ]
  },
  {
   "cell_type": "code",
   "execution_count": 11,
   "metadata": {},
   "outputs": [
    {
     "ename": "FileExistsError",
     "evalue": "[WinError 183] Cannot create a file when that file already exists: 'D:/Minor project/crack_model\\\\train'",
     "output_type": "error",
     "traceback": [
      "\u001b[1;31m---------------------------------------------------------------------------\u001b[0m",
      "\u001b[1;31mFileExistsError\u001b[0m                           Traceback (most recent call last)",
      "\u001b[1;32m<ipython-input-11-81a42df739e8>\u001b[0m in \u001b[0;36m<module>\u001b[1;34m\u001b[0m\n\u001b[0;32m      1\u001b[0m \u001b[0mtrain_dir\u001b[0m \u001b[1;33m=\u001b[0m \u001b[0mos\u001b[0m\u001b[1;33m.\u001b[0m\u001b[0mpath\u001b[0m\u001b[1;33m.\u001b[0m\u001b[0mjoin\u001b[0m\u001b[1;33m(\u001b[0m\u001b[0mbase_dir\u001b[0m\u001b[1;33m,\u001b[0m \u001b[1;34m'train'\u001b[0m\u001b[1;33m)\u001b[0m\u001b[1;33m\u001b[0m\u001b[1;33m\u001b[0m\u001b[0m\n\u001b[1;32m----> 2\u001b[1;33m \u001b[0mos\u001b[0m\u001b[1;33m.\u001b[0m\u001b[0mmkdir\u001b[0m\u001b[1;33m(\u001b[0m\u001b[0mtrain_dir\u001b[0m\u001b[1;33m)\u001b[0m\u001b[1;33m\u001b[0m\u001b[1;33m\u001b[0m\u001b[0m\n\u001b[0m",
      "\u001b[1;31mFileExistsError\u001b[0m: [WinError 183] Cannot create a file when that file already exists: 'D:/Minor project/crack_model\\\\train'"
     ]
    }
   ],
   "source": [
    "train_dir = os.path.join(base_dir, 'train')\n",
    "os.mkdir(train_dir)"
   ]
  },
  {
   "cell_type": "code",
   "execution_count": 12,
   "metadata": {},
   "outputs": [
    {
     "ename": "FileExistsError",
     "evalue": "[WinError 183] Cannot create a file when that file already exists: 'D:/Minor project/crack_model\\\\validation'",
     "output_type": "error",
     "traceback": [
      "\u001b[1;31m---------------------------------------------------------------------------\u001b[0m",
      "\u001b[1;31mFileExistsError\u001b[0m                           Traceback (most recent call last)",
      "\u001b[1;32m<ipython-input-12-8d2a7d11231c>\u001b[0m in \u001b[0;36m<module>\u001b[1;34m\u001b[0m\n\u001b[0;32m      1\u001b[0m \u001b[0mvalidation_dir\u001b[0m \u001b[1;33m=\u001b[0m \u001b[0mos\u001b[0m\u001b[1;33m.\u001b[0m\u001b[0mpath\u001b[0m\u001b[1;33m.\u001b[0m\u001b[0mjoin\u001b[0m\u001b[1;33m(\u001b[0m\u001b[0mbase_dir\u001b[0m\u001b[1;33m,\u001b[0m \u001b[1;34m'validation'\u001b[0m\u001b[1;33m)\u001b[0m\u001b[1;33m\u001b[0m\u001b[1;33m\u001b[0m\u001b[0m\n\u001b[1;32m----> 2\u001b[1;33m \u001b[0mos\u001b[0m\u001b[1;33m.\u001b[0m\u001b[0mmkdir\u001b[0m\u001b[1;33m(\u001b[0m\u001b[0mvalidation_dir\u001b[0m\u001b[1;33m)\u001b[0m\u001b[1;33m\u001b[0m\u001b[1;33m\u001b[0m\u001b[0m\n\u001b[0m",
      "\u001b[1;31mFileExistsError\u001b[0m: [WinError 183] Cannot create a file when that file already exists: 'D:/Minor project/crack_model\\\\validation'"
     ]
    }
   ],
   "source": [
    "validation_dir = os.path.join(base_dir, 'validation')\n",
    "os.mkdir(validation_dir)"
   ]
  },
  {
   "cell_type": "code",
   "execution_count": 13,
   "metadata": {},
   "outputs": [
    {
     "ename": "FileExistsError",
     "evalue": "[WinError 183] Cannot create a file when that file already exists: 'D:/Minor project/crack_model\\\\test'",
     "output_type": "error",
     "traceback": [
      "\u001b[1;31m---------------------------------------------------------------------------\u001b[0m",
      "\u001b[1;31mFileExistsError\u001b[0m                           Traceback (most recent call last)",
      "\u001b[1;32m<ipython-input-13-849a75001a4c>\u001b[0m in \u001b[0;36m<module>\u001b[1;34m\u001b[0m\n\u001b[0;32m      1\u001b[0m \u001b[0mtest_dir\u001b[0m \u001b[1;33m=\u001b[0m \u001b[0mos\u001b[0m\u001b[1;33m.\u001b[0m\u001b[0mpath\u001b[0m\u001b[1;33m.\u001b[0m\u001b[0mjoin\u001b[0m\u001b[1;33m(\u001b[0m\u001b[0mbase_dir\u001b[0m\u001b[1;33m,\u001b[0m \u001b[1;34m'test'\u001b[0m\u001b[1;33m)\u001b[0m\u001b[1;33m\u001b[0m\u001b[1;33m\u001b[0m\u001b[0m\n\u001b[1;32m----> 2\u001b[1;33m \u001b[0mos\u001b[0m\u001b[1;33m.\u001b[0m\u001b[0mmkdir\u001b[0m\u001b[1;33m(\u001b[0m\u001b[0mtest_dir\u001b[0m\u001b[1;33m)\u001b[0m\u001b[1;33m\u001b[0m\u001b[1;33m\u001b[0m\u001b[0m\n\u001b[0m",
      "\u001b[1;31mFileExistsError\u001b[0m: [WinError 183] Cannot create a file when that file already exists: 'D:/Minor project/crack_model\\\\test'"
     ]
    }
   ],
   "source": [
    "test_dir = os.path.join(base_dir, 'test')\n",
    "os.mkdir(test_dir)"
   ]
  },
  {
   "cell_type": "code",
   "execution_count": 14,
   "metadata": {},
   "outputs": [
    {
     "ename": "FileExistsError",
     "evalue": "[WinError 183] Cannot create a file when that file already exists: 'D:/Minor project/crack_model\\\\train\\\\crack'",
     "output_type": "error",
     "traceback": [
      "\u001b[1;31m---------------------------------------------------------------------------\u001b[0m",
      "\u001b[1;31mFileExistsError\u001b[0m                           Traceback (most recent call last)",
      "\u001b[1;32m<ipython-input-14-0bcd6d9e54ef>\u001b[0m in \u001b[0;36m<module>\u001b[1;34m\u001b[0m\n\u001b[0;32m      1\u001b[0m \u001b[0mtrain_crack_dir\u001b[0m \u001b[1;33m=\u001b[0m \u001b[0mos\u001b[0m\u001b[1;33m.\u001b[0m\u001b[0mpath\u001b[0m\u001b[1;33m.\u001b[0m\u001b[0mjoin\u001b[0m\u001b[1;33m(\u001b[0m\u001b[0mtrain_dir\u001b[0m\u001b[1;33m,\u001b[0m \u001b[1;34m'crack'\u001b[0m\u001b[1;33m)\u001b[0m\u001b[1;33m\u001b[0m\u001b[1;33m\u001b[0m\u001b[0m\n\u001b[1;32m----> 2\u001b[1;33m \u001b[0mos\u001b[0m\u001b[1;33m.\u001b[0m\u001b[0mmkdir\u001b[0m\u001b[1;33m(\u001b[0m\u001b[0mtrain_crack_dir\u001b[0m\u001b[1;33m)\u001b[0m\u001b[1;33m\u001b[0m\u001b[1;33m\u001b[0m\u001b[0m\n\u001b[0m",
      "\u001b[1;31mFileExistsError\u001b[0m: [WinError 183] Cannot create a file when that file already exists: 'D:/Minor project/crack_model\\\\train\\\\crack'"
     ]
    }
   ],
   "source": [
    "train_crack_dir = os.path.join(train_dir, 'crack')\n",
    "os.mkdir(train_crack_dir)\n"
   ]
  },
  {
   "cell_type": "code",
   "execution_count": 15,
   "metadata": {},
   "outputs": [
    {
     "ename": "FileExistsError",
     "evalue": "[WinError 183] Cannot create a file when that file already exists: 'D:/Minor project/crack_model\\\\train\\\\no crack'",
     "output_type": "error",
     "traceback": [
      "\u001b[1;31m---------------------------------------------------------------------------\u001b[0m",
      "\u001b[1;31mFileExistsError\u001b[0m                           Traceback (most recent call last)",
      "\u001b[1;32m<ipython-input-15-eb1a7a492d56>\u001b[0m in \u001b[0;36m<module>\u001b[1;34m\u001b[0m\n\u001b[0;32m      1\u001b[0m \u001b[0mtrain_no_crack_dir\u001b[0m \u001b[1;33m=\u001b[0m \u001b[0mos\u001b[0m\u001b[1;33m.\u001b[0m\u001b[0mpath\u001b[0m\u001b[1;33m.\u001b[0m\u001b[0mjoin\u001b[0m\u001b[1;33m(\u001b[0m\u001b[0mtrain_dir\u001b[0m\u001b[1;33m,\u001b[0m \u001b[1;34m'no crack'\u001b[0m\u001b[1;33m)\u001b[0m\u001b[1;33m\u001b[0m\u001b[1;33m\u001b[0m\u001b[0m\n\u001b[1;32m----> 2\u001b[1;33m \u001b[0mos\u001b[0m\u001b[1;33m.\u001b[0m\u001b[0mmkdir\u001b[0m\u001b[1;33m(\u001b[0m\u001b[0mtrain_no_crack_dir\u001b[0m\u001b[1;33m)\u001b[0m\u001b[1;33m\u001b[0m\u001b[1;33m\u001b[0m\u001b[0m\n\u001b[0m",
      "\u001b[1;31mFileExistsError\u001b[0m: [WinError 183] Cannot create a file when that file already exists: 'D:/Minor project/crack_model\\\\train\\\\no crack'"
     ]
    }
   ],
   "source": [
    "train_no_crack_dir = os.path.join(train_dir, 'no crack')\n",
    "os.mkdir(train_no_crack_dir)"
   ]
  },
  {
   "cell_type": "code",
   "execution_count": 16,
   "metadata": {},
   "outputs": [
    {
     "ename": "FileExistsError",
     "evalue": "[WinError 183] Cannot create a file when that file already exists: 'D:/Minor project/crack_model\\\\validation\\\\crack'",
     "output_type": "error",
     "traceback": [
      "\u001b[1;31m---------------------------------------------------------------------------\u001b[0m",
      "\u001b[1;31mFileExistsError\u001b[0m                           Traceback (most recent call last)",
      "\u001b[1;32m<ipython-input-16-ed4984ed3880>\u001b[0m in \u001b[0;36m<module>\u001b[1;34m\u001b[0m\n\u001b[0;32m      1\u001b[0m \u001b[0mvalidation_crack_dir\u001b[0m \u001b[1;33m=\u001b[0m \u001b[0mos\u001b[0m\u001b[1;33m.\u001b[0m\u001b[0mpath\u001b[0m\u001b[1;33m.\u001b[0m\u001b[0mjoin\u001b[0m\u001b[1;33m(\u001b[0m\u001b[0mvalidation_dir\u001b[0m\u001b[1;33m,\u001b[0m \u001b[1;34m'crack'\u001b[0m\u001b[1;33m)\u001b[0m\u001b[1;33m\u001b[0m\u001b[1;33m\u001b[0m\u001b[0m\n\u001b[1;32m----> 2\u001b[1;33m \u001b[0mos\u001b[0m\u001b[1;33m.\u001b[0m\u001b[0mmkdir\u001b[0m\u001b[1;33m(\u001b[0m\u001b[0mvalidation_crack_dir\u001b[0m\u001b[1;33m)\u001b[0m\u001b[1;33m\u001b[0m\u001b[1;33m\u001b[0m\u001b[0m\n\u001b[0m",
      "\u001b[1;31mFileExistsError\u001b[0m: [WinError 183] Cannot create a file when that file already exists: 'D:/Minor project/crack_model\\\\validation\\\\crack'"
     ]
    }
   ],
   "source": [
    "validation_crack_dir = os.path.join(validation_dir, 'crack')\n",
    "os.mkdir(validation_crack_dir)"
   ]
  },
  {
   "cell_type": "code",
   "execution_count": 17,
   "metadata": {},
   "outputs": [
    {
     "ename": "FileExistsError",
     "evalue": "[WinError 183] Cannot create a file when that file already exists: 'D:/Minor project/crack_model\\\\validation\\\\no crack'",
     "output_type": "error",
     "traceback": [
      "\u001b[1;31m---------------------------------------------------------------------------\u001b[0m",
      "\u001b[1;31mFileExistsError\u001b[0m                           Traceback (most recent call last)",
      "\u001b[1;32m<ipython-input-17-bd7f3d4c230b>\u001b[0m in \u001b[0;36m<module>\u001b[1;34m\u001b[0m\n\u001b[0;32m      1\u001b[0m \u001b[0mvalidation_no_crack_dir\u001b[0m \u001b[1;33m=\u001b[0m \u001b[0mos\u001b[0m\u001b[1;33m.\u001b[0m\u001b[0mpath\u001b[0m\u001b[1;33m.\u001b[0m\u001b[0mjoin\u001b[0m\u001b[1;33m(\u001b[0m\u001b[0mvalidation_dir\u001b[0m\u001b[1;33m,\u001b[0m \u001b[1;34m'no crack'\u001b[0m\u001b[1;33m)\u001b[0m\u001b[1;33m\u001b[0m\u001b[1;33m\u001b[0m\u001b[0m\n\u001b[1;32m----> 2\u001b[1;33m \u001b[0mos\u001b[0m\u001b[1;33m.\u001b[0m\u001b[0mmkdir\u001b[0m\u001b[1;33m(\u001b[0m\u001b[0mvalidation_no_crack_dir\u001b[0m\u001b[1;33m)\u001b[0m\u001b[1;33m\u001b[0m\u001b[1;33m\u001b[0m\u001b[0m\n\u001b[0m",
      "\u001b[1;31mFileExistsError\u001b[0m: [WinError 183] Cannot create a file when that file already exists: 'D:/Minor project/crack_model\\\\validation\\\\no crack'"
     ]
    }
   ],
   "source": [
    "validation_no_crack_dir = os.path.join(validation_dir, 'no crack')\n",
    "os.mkdir(validation_no_crack_dir)"
   ]
  },
  {
   "cell_type": "code",
   "execution_count": 18,
   "metadata": {},
   "outputs": [
    {
     "ename": "FileExistsError",
     "evalue": "[WinError 183] Cannot create a file when that file already exists: 'D:/Minor project/crack_model\\\\test\\\\crack'",
     "output_type": "error",
     "traceback": [
      "\u001b[1;31m---------------------------------------------------------------------------\u001b[0m",
      "\u001b[1;31mFileExistsError\u001b[0m                           Traceback (most recent call last)",
      "\u001b[1;32m<ipython-input-18-00e2a5d2aded>\u001b[0m in \u001b[0;36m<module>\u001b[1;34m\u001b[0m\n\u001b[0;32m      1\u001b[0m \u001b[0mtest_crack_dir\u001b[0m \u001b[1;33m=\u001b[0m \u001b[0mos\u001b[0m\u001b[1;33m.\u001b[0m\u001b[0mpath\u001b[0m\u001b[1;33m.\u001b[0m\u001b[0mjoin\u001b[0m\u001b[1;33m(\u001b[0m\u001b[0mtest_dir\u001b[0m\u001b[1;33m,\u001b[0m \u001b[1;34m'crack'\u001b[0m\u001b[1;33m)\u001b[0m\u001b[1;33m\u001b[0m\u001b[1;33m\u001b[0m\u001b[0m\n\u001b[1;32m----> 2\u001b[1;33m \u001b[0mos\u001b[0m\u001b[1;33m.\u001b[0m\u001b[0mmkdir\u001b[0m\u001b[1;33m(\u001b[0m\u001b[0mtest_crack_dir\u001b[0m\u001b[1;33m)\u001b[0m\u001b[1;33m\u001b[0m\u001b[1;33m\u001b[0m\u001b[0m\n\u001b[0m",
      "\u001b[1;31mFileExistsError\u001b[0m: [WinError 183] Cannot create a file when that file already exists: 'D:/Minor project/crack_model\\\\test\\\\crack'"
     ]
    }
   ],
   "source": [
    "test_crack_dir = os.path.join(test_dir, 'crack')\n",
    "os.mkdir(test_crack_dir)"
   ]
  },
  {
   "cell_type": "code",
   "execution_count": 19,
   "metadata": {},
   "outputs": [
    {
     "ename": "FileExistsError",
     "evalue": "[WinError 183] Cannot create a file when that file already exists: 'D:/Minor project/crack_model\\\\test\\\\no crack'",
     "output_type": "error",
     "traceback": [
      "\u001b[1;31m---------------------------------------------------------------------------\u001b[0m",
      "\u001b[1;31mFileExistsError\u001b[0m                           Traceback (most recent call last)",
      "\u001b[1;32m<ipython-input-19-ea9abfe2feab>\u001b[0m in \u001b[0;36m<module>\u001b[1;34m\u001b[0m\n\u001b[0;32m      1\u001b[0m \u001b[0mtest_no_crack_dir\u001b[0m \u001b[1;33m=\u001b[0m \u001b[0mos\u001b[0m\u001b[1;33m.\u001b[0m\u001b[0mpath\u001b[0m\u001b[1;33m.\u001b[0m\u001b[0mjoin\u001b[0m\u001b[1;33m(\u001b[0m\u001b[0mtest_dir\u001b[0m\u001b[1;33m,\u001b[0m \u001b[1;34m'no crack'\u001b[0m\u001b[1;33m)\u001b[0m\u001b[1;33m\u001b[0m\u001b[1;33m\u001b[0m\u001b[0m\n\u001b[1;32m----> 2\u001b[1;33m \u001b[0mos\u001b[0m\u001b[1;33m.\u001b[0m\u001b[0mmkdir\u001b[0m\u001b[1;33m(\u001b[0m\u001b[0mtest_no_crack_dir\u001b[0m\u001b[1;33m)\u001b[0m\u001b[1;33m\u001b[0m\u001b[1;33m\u001b[0m\u001b[0m\n\u001b[0m",
      "\u001b[1;31mFileExistsError\u001b[0m: [WinError 183] Cannot create a file when that file already exists: 'D:/Minor project/crack_model\\\\test\\\\no crack'"
     ]
    }
   ],
   "source": [
    "test_no_crack_dir = os.path.join(test_dir, 'no crack')\n",
    "os.mkdir(test_no_crack_dir)"
   ]
  },
  {
   "cell_type": "code",
   "execution_count": 20,
   "metadata": {},
   "outputs": [
    {
     "name": "stdout",
     "output_type": "stream",
     "text": [
      "total training crack  images: 800\n",
      "total training no crack images: 801\n",
      "total validation crack images: 100\n",
      "total validation no crack images: 101\n",
      "total test crack images: 101\n",
      "total test no crack images: 100\n"
     ]
    }
   ],
   "source": [
    "print('total training crack  images:', len(os.listdir(train_crack_dir)))\n",
    "print('total training no crack images:', len(os.listdir(train_no_crack_dir)))\n",
    "\n",
    "\n",
    "print('total validation crack images:', len(os.listdir(validation_crack_dir)))\n",
    "print('total validation no crack images:', len(os.listdir(validation_no_crack_dir)))\n",
    "\n",
    "print('total test crack images:', len(os.listdir(test_crack_dir)))\n",
    "print('total test no crack images:', len(os.listdir(test_no_crack_dir)))\n"
   ]
  },
  {
   "cell_type": "code",
   "execution_count": null,
   "metadata": {},
   "outputs": [],
   "source": [
    "from keras import layers\n",
    "from keras import models"
   ]
  },
  {
   "cell_type": "code",
   "execution_count": null,
   "metadata": {},
   "outputs": [],
   "source": [
    "from keras.preprocessing.image import ImageDataGenerator\n",
    "train_datagen = ImageDataGenerator(rescale=1./255)\n",
    "test_datagen = ImageDataGenerator(rescale=1./255)\n",
    "train_generator = train_datagen.flow_from_directory(\n",
    "    train_dir,\n",
    "    target_size=(227, 227),\n",
    "    batch_size=20,\n",
    "    class_mode='categorical')\n",
    "validation_generator = test_datagen.flow_from_directory(validation_dir,\n",
    "                                                        target_size=(227, 227),\n",
    "                                                        batch_size=20,\n",
    "                                                        class_mode='categorical')"
   ]
  },
  {
   "cell_type": "code",
   "execution_count": null,
   "metadata": {},
   "outputs": [],
   "source": [
    "for data_batch, labels_batch in train_generator:\n",
    "  print('data batch shape:', data_batch.shape)\n",
    "  print('labels batch shape:', labels_batch.shape)\n",
    "  break"
   ]
  },
  {
   "cell_type": "code",
   "execution_count": null,
   "metadata": {},
   "outputs": [],
   "source": [
    "import tensorflow as tf\n",
    "\n"
   ]
  },
  {
   "cell_type": "code",
   "execution_count": null,
   "metadata": {},
   "outputs": [],
   "source": [
    "IMG_SHAPE = (227, 227, 3)\n",
    "\n",
    "# Create the base model from the pre-trained model MobileNet V2\n",
    "base_model = tf.keras.applications.MobileNetV2(input_shape=IMG_SHAPE,\n",
    "                                               include_top=False,\n",
    "                                               weights='imagenet')"
   ]
  },
  {
   "cell_type": "code",
   "execution_count": null,
   "metadata": {},
   "outputs": [],
   "source": [
    "feature_batch = base_model(data_batch)\n",
    "print(feature_batch.shape)"
   ]
  },
  {
   "cell_type": "code",
   "execution_count": null,
   "metadata": {},
   "outputs": [],
   "source": [
    "base_model.trainable = False"
   ]
  },
  {
   "cell_type": "code",
   "execution_count": null,
   "metadata": {},
   "outputs": [],
   "source": [
    "base_model.summary()"
   ]
  },
  {
   "cell_type": "code",
   "execution_count": null,
   "metadata": {},
   "outputs": [],
   "source": [
    "global_average_layer = tf.keras.layers.GlobalAveragePooling2D()\n",
    "feature_batch_average = global_average_layer(feature_batch)\n",
    "print(feature_batch_average.shape)"
   ]
  },
  {
   "cell_type": "code",
   "execution_count": null,
   "metadata": {},
   "outputs": [],
   "source": [
    "prediction_layer = tf.keras.layers.Dense(2)\n",
    "prediction_batch = prediction_layer(feature_batch_average)\n",
    "print(prediction_batch.shape)"
   ]
  },
  {
   "cell_type": "code",
   "execution_count": null,
   "metadata": {},
   "outputs": [],
   "source": [
    "model = tf.keras.Sequential([\n",
    "  base_model,\n",
    "  global_average_layer,\n",
    "  prediction_layer\n",
    "])"
   ]
  },
  {
   "cell_type": "code",
   "execution_count": null,
   "metadata": {},
   "outputs": [],
   "source": [
    "sgd = tf.keras.optimizers.SGD(lr=1e-6, decay=1e-6, momentum=1, nesterov=True)\n",
    "model.compile(optimizer=sgd,loss=tf.keras.losses.BinaryCrossentropy(from_logits=True),\n",
    "              metrics=['accuracy'])"
   ]
  },
  {
   "cell_type": "code",
   "execution_count": 26,
   "metadata": {},
   "outputs": [
    {
     "name": "stdout",
     "output_type": "stream",
     "text": [
      "_________________________________________________________________\n",
      "Layer (type)                 Output Shape              Param #   \n",
      "=================================================================\n",
      "mobilenetv2_1.00_224 (Model) (None, 8, 8, 1280)        2257984   \n",
      "_________________________________________________________________\n",
      "global_average_pooling2d (Gl (None, 1280)              0         \n",
      "_________________________________________________________________\n",
      "dense (Dense)                (None, 2)                 2562      \n",
      "=================================================================\n",
      "Total params: 2,260,546\n",
      "Trainable params: 2,562\n",
      "Non-trainable params: 2,257,984\n",
      "_________________________________________________________________\n"
     ]
    }
   ],
   "source": [
    "model.summary()"
   ]
  },
  {
   "cell_type": "code",
   "execution_count": 27,
   "metadata": {},
   "outputs": [
    {
     "data": {
      "text/plain": [
       "2"
      ]
     },
     "execution_count": 27,
     "metadata": {},
     "output_type": "execute_result"
    }
   ],
   "source": [
    "len(model.trainable_variables)"
   ]
  },
  {
   "cell_type": "code",
   "execution_count": 29,
   "metadata": {},
   "outputs": [
    {
     "name": "stdout",
     "output_type": "stream",
     "text": [
      "11/11 [==============================] - 7s 652ms/step - loss: 0.7943 - acc: 0.3184\n"
     ]
    }
   ],
   "source": [
    "initial_epochs = 20\n",
    "validation_steps=20\n",
    "\n",
    "loss0,accuracy0 = model.evaluate(validation_generator, steps = validation_steps)"
   ]
  },
  {
   "cell_type": "code",
   "execution_count": 30,
   "metadata": {},
   "outputs": [
    {
     "name": "stdout",
     "output_type": "stream",
     "text": [
      "initial loss: 0.79\n",
      "initial accuracy: 0.32\n"
     ]
    }
   ],
   "source": [
    "print(\"initial loss: {:.2f}\".format(loss0))\n",
    "print(\"initial accuracy: {:.2f}\".format(accuracy0))"
   ]
  },
  {
   "cell_type": "code",
   "execution_count": 31,
   "metadata": {},
   "outputs": [
    {
     "name": "stdout",
     "output_type": "stream",
     "text": [
      "WARNING:tensorflow:From C:\\Users\\SAYYED BASHAR ALI\\Anaconda3\\lib\\site-packages\\tensorflow\\python\\ops\\math_ops.py:3066: to_int32 (from tensorflow.python.ops.math_ops) is deprecated and will be removed in a future version.\n",
      "Instructions for updating:\n",
      "Use tf.cast instead.\n",
      "Epoch 1/20\n",
      "11/11 [==============================] - 7s 663ms/step - loss: 0.7973 - acc: 0.2935\n",
      "81/81 [==============================] - 208s 3s/step - loss: 0.7134 - acc: 0.5384 - val_loss: 0.7973 - val_acc: 0.2935\n",
      "Epoch 2/20\n",
      "11/11 [==============================] - 8s 683ms/step - loss: 0.7877 - acc: 0.3582\n",
      "81/81 [==============================] - 187s 2s/step - loss: 0.7013 - acc: 0.5653 - val_loss: 0.7877 - val_acc: 0.3582\n",
      "Epoch 3/20\n",
      "11/11 [==============================] - 7s 662ms/step - loss: 0.7830 - acc: 0.3881\n",
      "81/81 [==============================] - 204s 3s/step - loss: 0.6868 - acc: 0.5903 - val_loss: 0.7830 - val_acc: 0.3881\n",
      "Epoch 4/20\n",
      "11/11 [==============================] - 6s 513ms/step - loss: 0.7821 - acc: 0.4328\n",
      "81/81 [==============================] - 190s 2s/step - loss: 0.6708 - acc: 0.6171 - val_loss: 0.7821 - val_acc: 0.4328\n",
      "Epoch 5/20\n",
      "11/11 [==============================] - 6s 510ms/step - loss: 0.7761 - acc: 0.4627\n",
      "81/81 [==============================] - 158s 2s/step - loss: 0.6462 - acc: 0.6590 - val_loss: 0.7761 - val_acc: 0.4627\n",
      "Epoch 6/20\n",
      "11/11 [==============================] - 6s 514ms/step - loss: 0.7588 - acc: 0.5124\n",
      "81/81 [==============================] - 142s 2s/step - loss: 0.6136 - acc: 0.7202 - val_loss: 0.7588 - val_acc: 0.5124\n",
      "Epoch 7/20\n",
      "11/11 [==============================] - 6s 509ms/step - loss: 0.7344 - acc: 0.5672\n",
      "81/81 [==============================] - 156s 2s/step - loss: 0.5888 - acc: 0.7620 - val_loss: 0.7344 - val_acc: 0.5672\n",
      "Epoch 8/20\n",
      "11/11 [==============================] - 9s 819ms/step - loss: 0.7095 - acc: 0.5821\n",
      "81/81 [==============================] - 157s 2s/step - loss: 0.5612 - acc: 0.7976 - val_loss: 0.7095 - val_acc: 0.5821\n",
      "Epoch 9/20\n",
      "11/11 [==============================] - 6s 552ms/step - loss: 0.6704 - acc: 0.6070\n",
      "81/81 [==============================] - 163s 2s/step - loss: 0.5232 - acc: 0.8351 - val_loss: 0.6704 - val_acc: 0.6070\n",
      "Epoch 10/20\n",
      "11/11 [==============================] - 7s 631ms/step - loss: 0.6108 - acc: 0.6468\n",
      "81/81 [==============================] - 143s 2s/step - loss: 0.4864 - acc: 0.8613 - val_loss: 0.6108 - val_acc: 0.6468\n",
      "Epoch 11/20\n",
      "11/11 [==============================] - 5s 482ms/step - loss: 0.6062 - acc: 0.6617\n",
      "81/81 [==============================] - 142s 2s/step - loss: 0.4521 - acc: 0.8894 - val_loss: 0.6062 - val_acc: 0.6617\n",
      "Epoch 12/20\n",
      "11/11 [==============================] - 5s 481ms/step - loss: 0.5922 - acc: 0.6667\n",
      "81/81 [==============================] - 135s 2s/step - loss: 0.4167 - acc: 0.9038 - val_loss: 0.5922 - val_acc: 0.6667\n",
      "Epoch 13/20\n",
      "11/11 [==============================] - 5s 481ms/step - loss: 0.5770 - acc: 0.6915\n",
      "81/81 [==============================] - 139s 2s/step - loss: 0.3821 - acc: 0.9182 - val_loss: 0.5770 - val_acc: 0.6915\n",
      "Epoch 14/20\n",
      "11/11 [==============================] - 5s 482ms/step - loss: 0.5323 - acc: 0.6866\n",
      "81/81 [==============================] - 137s 2s/step - loss: 0.3505 - acc: 0.9325 - val_loss: 0.5323 - val_acc: 0.6866\n",
      "Epoch 15/20\n",
      "11/11 [==============================] - 6s 530ms/step - loss: 0.5120 - acc: 0.6866\n",
      "81/81 [==============================] - 138s 2s/step - loss: 0.3213 - acc: 0.9350 - val_loss: 0.5120 - val_acc: 0.6866\n",
      "Epoch 16/20\n",
      "11/11 [==============================] - 6s 507ms/step - loss: 0.4799 - acc: 0.7065\n",
      "81/81 [==============================] - 138s 2s/step - loss: 0.2948 - acc: 0.9475 - val_loss: 0.4799 - val_acc: 0.7065\n",
      "Epoch 17/20\n",
      "11/11 [==============================] - 5s 491ms/step - loss: 0.4589 - acc: 0.7114\n",
      "81/81 [==============================] - 141s 2s/step - loss: 0.2662 - acc: 0.9488 - val_loss: 0.4589 - val_acc: 0.7114\n",
      "Epoch 18/20\n",
      "11/11 [==============================] - 6s 514ms/step - loss: 0.4420 - acc: 0.7711\n",
      "81/81 [==============================] - 155s 2s/step - loss: 0.2536 - acc: 0.9457 - val_loss: 0.4420 - val_acc: 0.7711\n",
      "Epoch 19/20\n",
      "11/11 [==============================] - 6s 514ms/step - loss: 0.4123 - acc: 0.7910\n",
      "81/81 [==============================] - 168s 2s/step - loss: 0.2379 - acc: 0.9463 - val_loss: 0.4123 - val_acc: 0.7910\n",
      "Epoch 20/20\n",
      "11/11 [==============================] - 8s 710ms/step - loss: 0.3830 - acc: 0.8060\n",
      "81/81 [==============================] - 159s 2s/step - loss: 0.2102 - acc: 0.9582 - val_loss: 0.3830 - val_acc: 0.8060\n"
     ]
    }
   ],
   "source": [
    "history = model.fit(train_generator,\n",
    "                    epochs=initial_epochs,\n",
    "                    validation_data=validation_generator)"
   ]
  },
  {
   "cell_type": "code",
   "execution_count": 33,
   "metadata": {},
   "outputs": [
    {
     "data": {
      "image/png": "[encoded data removed]",
      "text/plain": [
       "<Figure size 576x576 with 2 Axes>"
      ]
     },
     "metadata": {
      "needs_background": "light"
     },
     "output_type": "display_data"
    }
   ],
   "source": [
    "import matplotlib.pyplot as plt\n",
    "acc = history.history['acc']\n",
    "val_acc= history.history['val_acc']\n",
    "\n",
    "loss = history.history['loss']\n",
    "val_loss = history.history['val_loss']\n",
    "\n",
    "plt.figure(figsize=(8, 8))\n",
    "plt.subplot(2, 1, 1)\n",
    "plt.plot(acc, label='Training Accuracy')\n",
    "plt.plot(val_acc, label='Validation Accuracy')\n",
    "plt.legend(loc='lower right')\n",
    "plt.ylabel('Accuracy')\n",
    "plt.ylim([min(plt.ylim()),1])\n",
    "plt.title('Training and Validation Accuracy')\n",
    "\n",
    "plt.subplot(2, 1, 2)\n",
    "plt.plot(loss, label='Training Loss')\n",
    "plt.plot(val_loss, label='Validation Loss')\n",
    "plt.legend(loc='upper right')\n",
    "plt.ylabel('Cross Entropy')\n",
    "plt.ylim([0,1.0])\n",
    "plt.title('Training and Validation Loss')\n",
    "plt.xlabel('epoch')\n",
    "plt.show()"
   ]
  },
  {
   "cell_type": "code",
   "execution_count": 86,
   "metadata": {},
   "outputs": [],
   "source": [
    "base_model.trainable = True"
   ]
  },
  {
   "cell_type": "code",
   "execution_count": 87,
   "metadata": {},
   "outputs": [
    {
     "name": "stdout",
     "output_type": "stream",
     "text": [
      "Number of layers in the base model:  155\n"
     ]
    }
   ],
   "source": [
    "# Let's take a look to see how many layers are in the base model\n",
    "print(\"Number of layers in the base model: \", len(base_model.layers))\n",
    "\n",
    "# Fine-tune from this layer onwards\n",
    "fine_tune_at = 100\n",
    "\n",
    "# Freeze all the layers before the `fine_tune_at` layer\n",
    "for layer in base_model.layers[:fine_tune_at]:\n",
    "  layer.trainable =  False"
   ]
  },
  {
   "cell_type": "code",
   "execution_count": 88,
   "metadata": {},
   "outputs": [],
   "source": [
    "sgd = tf.keras.optimizers.SGD(lr=(1e-6)/2, decay=(1e-6)/2, momentum=1, nesterov=True)\n",
    "model.compile(optimizer=sgd,loss=tf.keras.losses.BinaryCrossentropy(from_logits=True),\n",
    "              metrics=['accuracy'])"
   ]
  },
  {
   "cell_type": "code",
   "execution_count": 89,
   "metadata": {},
   "outputs": [
    {
     "name": "stdout",
     "output_type": "stream",
     "text": [
      "Epoch 10/20\n",
      "10/10 [==============================] - 3s 304ms/step - loss: 0.4141 - acc: 0.1602\n",
      "86/86 [==============================] - 86s 998ms/step - loss: 0.3137 - acc: 0.2043 - val_loss: 0.4141 - val_acc: 0.1602\n",
      "Epoch 11/20\n",
      "10/10 [==============================] - 2s 207ms/step - loss: 0.4134 - acc: 0.1602\n",
      "86/86 [==============================] - 83s 963ms/step - loss: 0.3112 - acc: 0.2090 - val_loss: 0.4134 - val_acc: 0.1602\n",
      "Epoch 12/20\n",
      "10/10 [==============================] - 2s 222ms/step - loss: 0.4112 - acc: 0.1602\n",
      "86/86 [==============================] - 88s 1s/step - loss: 0.3006 - acc: 0.1997 - val_loss: 0.4112 - val_acc: 0.1602\n",
      "Epoch 13/20\n",
      "10/10 [==============================] - 2s 207ms/step - loss: 0.4076 - acc: 0.1547\n",
      "86/86 [==============================] - 83s 969ms/step - loss: 0.3023 - acc: 0.2020 - val_loss: 0.4076 - val_acc: 0.1547\n",
      "Epoch 14/20\n",
      "10/10 [==============================] - 2s 211ms/step - loss: 0.3752 - acc: 0.1547\n",
      "86/86 [==============================] - 83s 964ms/step - loss: 0.2852 - acc: 0.2072 - val_loss: 0.3752 - val_acc: 0.1547\n",
      "Epoch 15/20\n",
      "10/10 [==============================] - 2s 214ms/step - loss: 0.3700 - acc: 0.1602\n",
      "86/86 [==============================] - 84s 974ms/step - loss: 0.3043 - acc: 0.2002 - val_loss: 0.3700 - val_acc: 0.1602\n",
      "Epoch 16/20\n",
      "10/10 [==============================] - 2s 204ms/step - loss: 0.3684 - acc: 0.1492\n",
      "86/86 [==============================] - 83s 966ms/step - loss: 0.2726 - acc: 0.1898 - val_loss: 0.3684 - val_acc: 0.1492\n",
      "Epoch 17/20\n",
      "10/10 [==============================] - 2s 207ms/step - loss: 0.3668 - acc: 0.1492\n",
      "86/86 [==============================] - 85s 983ms/step - loss: 0.2752 - acc: 0.2026 - val_loss: 0.3668 - val_acc: 0.1492\n",
      "Epoch 18/20\n",
      "10/10 [==============================] - 2s 209ms/step - loss: 0.3526 - acc: 0.1547\n",
      "86/86 [==============================] - 89s 1s/step - loss: 0.2640 - acc: 0.1997 - val_loss: 0.3526 - val_acc: 0.1547\n",
      "Epoch 19/20\n",
      "10/10 [==============================] - 2s 151ms/step - loss: 0.3448 - acc: 0.1492\n",
      "86/86 [==============================] - 75s 877ms/step - loss: 0.2549 - acc: 0.1851 - val_loss: 0.3448 - val_acc: 0.1492\n",
      "Epoch 20/20\n",
      "10/10 [==============================] - 2s 152ms/step - loss: 0.3364 - acc: 0.1492\n",
      "86/86 [==============================] - 61s 710ms/step - loss: 0.2642 - acc: 0.2072 - val_loss: 0.3364 - val_acc: 0.1492\n"
     ]
    }
   ],
   "source": [
    "fine_tune_epochs = 10\n",
    "total_epochs =  initial_epochs + fine_tune_epochs\n",
    "\n",
    "history_fine = model.fit(train_generator,\n",
    "                         epochs=total_epochs,\n",
    "                         initial_epoch =  history.epoch[-1],\n",
    "                         validation_data=validation_generator)"
   ]
  },
  {
   "cell_type": "code",
   "execution_count": 38,
   "metadata": {},
   "outputs": [],
   "source": [
    "img_path='C:/Users/SAYYED BASHAR ALI/Desktop/12307_1.jpg'"
   ]
  },
  {
   "cell_type": "code",
   "execution_count": 39,
   "metadata": {},
   "outputs": [
    {
     "name": "stdout",
     "output_type": "stream",
     "text": [
      "(1, 227, 227, 3)\n"
     ]
    }
   ],
   "source": [
    "from keras.preprocessing import image\n",
    "import numpy as np\n",
    "img = image.load_img(img_path,target_size=(227,227))\n",
    "img_tensor = image.img_to_array(img)\n",
    "img_tensor = np.expand_dims(img_tensor,axis=0)\n",
    "img_tensor/=255.\n",
    "print(img_tensor.shape)"
   ]
  },
  {
   "cell_type": "code",
   "execution_count": 40,
   "metadata": {},
   "outputs": [],
   "source": [
    "y=model.predict(img_tensor)"
   ]
  },
  {
   "cell_type": "code",
   "execution_count": 41,
   "metadata": {},
   "outputs": [
    {
     "name": "stdout",
     "output_type": "stream",
     "text": [
      "Crack\n"
     ]
    }
   ],
   "source": [
    "class_name=['Crack','No Crack']\n",
    "a=np.argmax(y)\n",
    "if y[0][a]>0:\n",
    "    \n",
    "    print(class_name[a])\n",
    "else:\n",
    "    print(\"Not found\")"
   ]
  },
  {
   "cell_type": "code",
   "execution_count": 42,
   "metadata": {},
   "outputs": [
    {
     "name": "stdout",
     "output_type": "stream",
     "text": [
      "[[ 0.9483551  -0.14690745]]\n"
     ]
    }
   ],
   "source": [
    "print(y)"
   ]
  },
  {
   "cell_type": "code",
   "execution_count": null,
   "metadata": {},
   "outputs": [],
   "source": []
  }
 ],
 "metadata": {
  "kernelspec": {
   "display_name": "Python 3",
   "language": "python",
   "name": "python3"
  },
  "language_info": {
   "codemirror_mode": {
    "name": "ipython",
    "version": 3
   },
   "file_extension": ".py",
   "mimetype": "text/x-python",
   "name": "python",
   "nbconvert_exporter": "python",
   "pygments_lexer": "ipython3",
   "version": "3.7.3"
  }
 },
 "nbformat": 4,
 "nbformat_minor": 2
}
